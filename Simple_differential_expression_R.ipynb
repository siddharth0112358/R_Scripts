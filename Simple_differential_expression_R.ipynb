{
 "cells": [
  {
   "cell_type": "code",
   "execution_count": 1,
   "metadata": {},
   "outputs": [
    {
     "name": "stderr",
     "output_type": "stream",
     "text": [
      "also installing the dependencies ‘pkgconfig’, ‘BH’, ‘sys’, ‘ini’, ‘tibble’, ‘lazyeval’, ‘later’, ‘askpass’, ‘highr’, ‘markdown’, ‘xfun’, ‘diffobj’, ‘clipr’, ‘curl’, ‘fs’, ‘gh’, ‘git2r’, ‘purrr’, ‘rematch2’, ‘rprojroot’, ‘whisker’, ‘yaml’, ‘processx’, ‘R6’, ‘rex’, ‘htmlwidgets’, ‘magrittr’, ‘crosstalk’, ‘promises’, ‘mime’, ‘openssl’, ‘prettyunits’, ‘xopen’, ‘brew’, ‘commonmark’, ‘knitr’, ‘Rcpp’, ‘stringi’, ‘stringr’, ‘xml2’, ‘brio’, ‘praise’, ‘ps’, ‘waldo’, ‘usethis’, ‘callr’, ‘covr’, ‘desc’, ‘DT’, ‘httr’, ‘memoise’, ‘pkgbuild’, ‘pkgload’, ‘rcmdcheck’, ‘remotes’, ‘roxygen2’, ‘rstudioapi’, ‘rversions’, ‘sessioninfo’, ‘testthat’, ‘withr’\n",
      "\n",
      "\n"
     ]
    },
    {
     "name": "stdout",
     "output_type": "stream",
     "text": [
      "\n",
      "The downloaded binary packages are in\n",
      "\t/var/folders/z4/zq1sx9z918l822zf41yhflvr0000gn/T//RtmpmNplLu/downloaded_packages\n"
     ]
    }
   ],
   "source": [
    "install.packages(\"devtools\")"
   ]
  },
  {
   "cell_type": "code",
   "execution_count": 2,
   "metadata": {},
   "outputs": [
    {
     "name": "stderr",
     "output_type": "stream",
     "text": [
      "Loading required package: usethis\n",
      "\n"
     ]
    }
   ],
   "source": [
    "library(\"devtools\")"
   ]
  },
  {
   "cell_type": "code",
   "execution_count": 4,
   "metadata": {},
   "outputs": [
    {
     "name": "stderr",
     "output_type": "stream",
     "text": [
      "Downloading GitHub repo xuan-chen/simpleDE@HEAD\n",
      "\n"
     ]
    },
    {
     "name": "stdout",
     "output_type": "stream",
     "text": [
      "\u001b[32m✔\u001b[39m  \u001b[38;5;247mchecking for file ‘/private/var/folders/z4/zq1sx9z918l822zf41yhflvr0000gn/T/RtmpmNplLu/remotes12d6e6038381/xuan-chen-simpleDE-42f6df9/DESCRIPTION’\u001b[39m\u001b[36m\u001b[39m\n",
      "\u001b[38;5;247m─\u001b[39m\u001b[38;5;247m  \u001b[39m\u001b[38;5;247mpreparing ‘simpleDE’:\u001b[39m\u001b[36m\u001b[39m\n",
      "\u001b[32m✔\u001b[39m  \u001b[38;5;247mchecking DESCRIPTION meta-information\u001b[39m\u001b[36m\u001b[39m\n",
      "\u001b[38;5;247m─\u001b[39m\u001b[38;5;247m  \u001b[39m\u001b[38;5;247mchecking for LF line-endings in source and make files and shell scripts\u001b[39m\u001b[36m\u001b[39m\n",
      "\u001b[38;5;247m─\u001b[39m\u001b[38;5;247m  \u001b[39m\u001b[38;5;247mchecking for empty or unneeded directories\u001b[39m\u001b[36m\u001b[39m\n",
      "\u001b[38;5;247m─\u001b[39m\u001b[38;5;247m  \u001b[39m\u001b[38;5;247mbuilding ‘simpleDE_0.1.0.tar.gz’\u001b[39m\u001b[36m\u001b[39m\n",
      "   \n",
      "\r"
     ]
    }
   ],
   "source": [
    "install_github(\"https://github.com/xuan-chen/simpleDE\")"
   ]
  },
  {
   "cell_type": "code",
   "execution_count": 5,
   "metadata": {},
   "outputs": [],
   "source": [
    "library(simpleDE)"
   ]
  },
  {
   "cell_type": "code",
   "execution_count": 7,
   "metadata": {},
   "outputs": [
    {
     "name": "stderr",
     "output_type": "stream",
     "text": [
      "also installing the dependencies ‘bit’, ‘R.oo’, ‘R.methodsS3’, ‘RcppCCTZ’, ‘RcppDate’, ‘tinytex’, ‘bit64’, ‘R.utils’, ‘xts’, ‘nanotime’, ‘zoo’, ‘rmarkdown’\n",
      "\n",
      "\n"
     ]
    },
    {
     "name": "stdout",
     "output_type": "stream",
     "text": [
      "\n",
      "  There is a binary version available but the source version is later:\n",
      "          binary source needs_compilation\n",
      "rmarkdown    2.3    2.5             FALSE\n",
      "\n",
      "\n",
      "The downloaded binary packages are in\n",
      "\t/var/folders/z4/zq1sx9z918l822zf41yhflvr0000gn/T//RtmpmNplLu/downloaded_packages\n"
     ]
    },
    {
     "name": "stderr",
     "output_type": "stream",
     "text": [
      "installing the source package ‘rmarkdown’\n",
      "\n",
      "\n"
     ]
    }
   ],
   "source": [
    "install.packages(\"data.table\", dependencies=TRUE)"
   ]
  },
  {
   "cell_type": "code",
   "execution_count": 8,
   "metadata": {},
   "outputs": [],
   "source": [
    "library(data.table)"
   ]
  },
  {
   "cell_type": "markdown",
   "metadata": {},
   "source": [
    "# \"Differential Expression Analysis on Expression Data of Mouse Embryonic Stem Cells\""
   ]
  },
  {
   "cell_type": "code",
   "execution_count": 9,
   "metadata": {},
   "outputs": [
    {
     "data": {
      "text/html": [
       "<table>\n",
       "<caption>A data.table: 6 x 7</caption>\n",
       "<thead>\n",
       "\t<tr><th scope=col>ID</th><th scope=col>WT1</th><th scope=col>WT2</th><th scope=col>WT3</th><th scope=col>KO1</th><th scope=col>KO2</th><th scope=col>KO3</th></tr>\n",
       "\t<tr><th scope=col>&lt;chr&gt;</th><th scope=col>&lt;dbl&gt;</th><th scope=col>&lt;dbl&gt;</th><th scope=col>&lt;dbl&gt;</th><th scope=col>&lt;dbl&gt;</th><th scope=col>&lt;dbl&gt;</th><th scope=col>&lt;dbl&gt;</th></tr>\n",
       "</thead>\n",
       "<tbody>\n",
       "\t<tr><td>100001_at</td><td>  11.5</td><td>   5.6</td><td>  69.1</td><td>  15.7</td><td>  36.0</td><td>  42.0</td></tr>\n",
       "\t<tr><td>100002_at</td><td>  20.5</td><td>  32.4</td><td>  93.3</td><td>  31.8</td><td>  14.4</td><td>  22.9</td></tr>\n",
       "\t<tr><td>100003_at</td><td>  72.4</td><td>  89.0</td><td>  79.2</td><td>  80.5</td><td> 130.1</td><td>  86.7</td></tr>\n",
       "\t<tr><td>100004_at</td><td> 261.0</td><td> 226.2</td><td> 365.1</td><td> 432.0</td><td> 447.3</td><td> 288.1</td></tr>\n",
       "\t<tr><td>100005_at</td><td>1086.2</td><td>1555.6</td><td>1487.1</td><td>1062.2</td><td>1365.9</td><td>1436.2</td></tr>\n",
       "\t<tr><td>100006_at</td><td>  49.7</td><td>  52.9</td><td>  15.0</td><td>  25.8</td><td>  48.8</td><td>  54.8</td></tr>\n",
       "</tbody>\n",
       "</table>\n"
      ],
      "text/latex": [
       "A data.table: 6 x 7\n",
       "\\begin{tabular}{lllllll}\n",
       " ID & WT1 & WT2 & WT3 & KO1 & KO2 & KO3\\\\\n",
       " <chr> & <dbl> & <dbl> & <dbl> & <dbl> & <dbl> & <dbl>\\\\\n",
       "\\hline\n",
       "\t 100001\\_at &   11.5 &    5.6 &   69.1 &   15.7 &   36.0 &   42.0\\\\\n",
       "\t 100002\\_at &   20.5 &   32.4 &   93.3 &   31.8 &   14.4 &   22.9\\\\\n",
       "\t 100003\\_at &   72.4 &   89.0 &   79.2 &   80.5 &  130.1 &   86.7\\\\\n",
       "\t 100004\\_at &  261.0 &  226.2 &  365.1 &  432.0 &  447.3 &  288.1\\\\\n",
       "\t 100005\\_at & 1086.2 & 1555.6 & 1487.1 & 1062.2 & 1365.9 & 1436.2\\\\\n",
       "\t 100006\\_at &   49.7 &   52.9 &   15.0 &   25.8 &   48.8 &   54.8\\\\\n",
       "\\end{tabular}\n"
      ],
      "text/markdown": [
       "\n",
       "A data.table: 6 x 7\n",
       "\n",
       "| ID &lt;chr&gt; | WT1 &lt;dbl&gt; | WT2 &lt;dbl&gt; | WT3 &lt;dbl&gt; | KO1 &lt;dbl&gt; | KO2 &lt;dbl&gt; | KO3 &lt;dbl&gt; |\n",
       "|---|---|---|---|---|---|---|\n",
       "| 100001_at |   11.5 |    5.6 |   69.1 |   15.7 |   36.0 |   42.0 |\n",
       "| 100002_at |   20.5 |   32.4 |   93.3 |   31.8 |   14.4 |   22.9 |\n",
       "| 100003_at |   72.4 |   89.0 |   79.2 |   80.5 |  130.1 |   86.7 |\n",
       "| 100004_at |  261.0 |  226.2 |  365.1 |  432.0 |  447.3 |  288.1 |\n",
       "| 100005_at | 1086.2 | 1555.6 | 1487.1 | 1062.2 | 1365.9 | 1436.2 |\n",
       "| 100006_at |   49.7 |   52.9 |   15.0 |   25.8 |   48.8 |   54.8 |\n",
       "\n"
      ],
      "text/plain": [
       "  ID        WT1    WT2    WT3    KO1    KO2    KO3   \n",
       "1 100001_at   11.5    5.6   69.1   15.7   36.0   42.0\n",
       "2 100002_at   20.5   32.4   93.3   31.8   14.4   22.9\n",
       "3 100003_at   72.4   89.0   79.2   80.5  130.1   86.7\n",
       "4 100004_at  261.0  226.2  365.1  432.0  447.3  288.1\n",
       "5 100005_at 1086.2 1555.6 1487.1 1062.2 1365.9 1436.2\n",
       "6 100006_at   49.7   52.9   15.0   25.8   48.8   54.8"
      ]
     },
     "metadata": {},
     "output_type": "display_data"
    }
   ],
   "source": [
    "# load the dataset\n",
    "dt = fread(\"/Users/sdeshpande/Desktop/gene_analysis/simpleDE/GSE5583.txt\")\n",
    "head(dt)"
   ]
  },
  {
   "cell_type": "code",
   "execution_count": 10,
   "metadata": {},
   "outputs": [
    {
     "name": "stdout",
     "output_type": "stream",
     "text": [
      "List of 3\n",
      " $ data       :List of 1\n",
      "  ..$ raw: num [1:12488, 1:6] 11.5 20.5 72.4 261 1086.2 ...\n",
      "  .. ..- attr(*, \"dimnames\")=List of 2\n",
      "  .. .. ..$ : chr [1:12488] \"100001_at\" \"100002_at\" \"100003_at\" \"100004_at\" ...\n",
      "  .. .. ..$ : chr [1:6] \"WT1\" \"WT2\" \"WT3\" \"KO1\" ...\n",
      " $ sample_info:'data.frame':\t6 obs. of  1 variable:\n",
      "  ..$ sample_id: chr [1:6] \"WT1\" \"WT2\" \"WT3\" \"KO1\" ...\n",
      " $ gene_info  :'data.frame':\t12488 obs. of  1 variable:\n",
      "  ..$ gene_id: chr [1:12488] \"100001_at\" \"100002_at\" \"100003_at\" \"100004_at\" ...\n"
     ]
    }
   ],
   "source": [
    "#Here we only have the expression data matrix. But we can still create a simpleDE list for further analysis. However, we can be add some sample information in sample_info as index for differential expression analysis.\n",
    "# Create simpleDE\n",
    "mtx = as.matrix(dt[,-1])\n",
    "rownames(mtx) = dt$ID\n",
    "colnames(mtx) = colnames(dt)[-1]\n",
    "simple.mouse = Create_simpleDE(mtx)\n",
    "str(simple.mouse)"
   ]
  },
  {
   "cell_type": "code",
   "execution_count": 11,
   "metadata": {},
   "outputs": [
    {
     "name": "stdout",
     "output_type": "stream",
     "text": [
      "List of 3\n",
      " $ data       :List of 1\n",
      "  ..$ raw: num [1:12488, 1:6] 11.5 20.5 72.4 261 1086.2 ...\n",
      "  .. ..- attr(*, \"dimnames\")=List of 2\n",
      "  .. .. ..$ : chr [1:12488] \"100001_at\" \"100002_at\" \"100003_at\" \"100004_at\" ...\n",
      "  .. .. ..$ : chr [1:6] \"WT1\" \"WT2\" \"WT3\" \"KO1\" ...\n",
      " $ sample_info:'data.frame':\t6 obs. of  2 variables:\n",
      "  ..$ sample_id: chr [1:6] \"WT1\" \"WT2\" \"WT3\" \"KO1\" ...\n",
      "  ..$ genotype : chr [1:6] \"WT\" \"WT\" \"WT\" \"KO\" ...\n",
      " $ gene_info  :'data.frame':\t12488 obs. of  1 variable:\n",
      "  ..$ gene_id: chr [1:12488] \"100001_at\" \"100002_at\" \"100003_at\" \"100004_at\" ...\n"
     ]
    }
   ],
   "source": [
    "#Now we add genotype information into sample_info.\n",
    "\n",
    "simple.mouse$sample_info[\"genotype\"] = rep(c(\"WT\", \"KO\"), each = 3)\n",
    "str(simple.mouse)"
   ]
  },
  {
   "cell_type": "code",
   "execution_count": 12,
   "metadata": {},
   "outputs": [],
   "source": [
    "#Then we perform filtering and normalization.\n",
    "simple.mouse = Filter_Data(simple.mouse, verbose = F)\n",
    "simple.mouse = Normalize_Data(simple.mouse, option = \"size_factor\")"
   ]
  },
  {
   "cell_type": "code",
   "execution_count": 13,
   "metadata": {},
   "outputs": [
    {
     "data": {
      "text/html": [
       "<table>\n",
       "<caption>A data.frame: 6 x 7</caption>\n",
       "<thead>\n",
       "\t<tr><th></th><th scope=col>gene</th><th scope=col>t</th><th scope=col>FC</th><th scope=col>log_FC</th><th scope=col>p_value</th><th scope=col>bonferroni</th><th scope=col>fdr</th></tr>\n",
       "\t<tr><th></th><th scope=col>&lt;chr&gt;</th><th scope=col>&lt;dbl&gt;</th><th scope=col>&lt;dbl&gt;</th><th scope=col>&lt;dbl&gt;</th><th scope=col>&lt;dbl&gt;</th><th scope=col>&lt;dbl&gt;</th><th scope=col>&lt;dbl&gt;</th></tr>\n",
       "</thead>\n",
       "<tbody>\n",
       "\t<tr><th scope=row>100001_at</th><td>100001_at</td><td> 0.1148786</td><td>0.9199573</td><td>-0.08342801</td><td>0.9168154</td><td>1</td><td>0.9808352</td></tr>\n",
       "\t<tr><th scope=row>100002_at</th><td>100002_at</td><td>-1.1125831</td><td>2.1157742</td><td> 0.74942082</td><td>0.3726832</td><td>1</td><td>0.8026614</td></tr>\n",
       "\t<tr><th scope=row>100003_at</th><td>100003_at</td><td> 1.1573839</td><td>0.8092836</td><td>-0.21160593</td><td>0.3500913</td><td>1</td><td>0.7907215</td></tr>\n",
       "\t<tr><th scope=row>100004_at</th><td>100004_at</td><td> 1.5993997</td><td>0.7300839</td><td>-0.31459576</td><td>0.1875973</td><td>1</td><td>0.6904555</td></tr>\n",
       "\t<tr><th scope=row>100005_at</th><td>100005_at</td><td>-0.4741657</td><td>1.0684729</td><td> 0.06623047</td><td>0.6614367</td><td>1</td><td>0.9051315</td></tr>\n",
       "\t<tr><th scope=row>100006_at</th><td>100006_at</td><td> 0.2620043</td><td>0.9088099</td><td>-0.09561935</td><td>0.8074091</td><td>1</td><td>0.9551950</td></tr>\n",
       "</tbody>\n",
       "</table>\n"
      ],
      "text/latex": [
       "A data.frame: 6 x 7\n",
       "\\begin{tabular}{r|lllllll}\n",
       "  & gene & t & FC & log\\_FC & p\\_value & bonferroni & fdr\\\\\n",
       "  & <chr> & <dbl> & <dbl> & <dbl> & <dbl> & <dbl> & <dbl>\\\\\n",
       "\\hline\n",
       "\t100001\\_at & 100001\\_at &  0.1148786 & 0.9199573 & -0.08342801 & 0.9168154 & 1 & 0.9808352\\\\\n",
       "\t100002\\_at & 100002\\_at & -1.1125831 & 2.1157742 &  0.74942082 & 0.3726832 & 1 & 0.8026614\\\\\n",
       "\t100003\\_at & 100003\\_at &  1.1573839 & 0.8092836 & -0.21160593 & 0.3500913 & 1 & 0.7907215\\\\\n",
       "\t100004\\_at & 100004\\_at &  1.5993997 & 0.7300839 & -0.31459576 & 0.1875973 & 1 & 0.6904555\\\\\n",
       "\t100005\\_at & 100005\\_at & -0.4741657 & 1.0684729 &  0.06623047 & 0.6614367 & 1 & 0.9051315\\\\\n",
       "\t100006\\_at & 100006\\_at &  0.2620043 & 0.9088099 & -0.09561935 & 0.8074091 & 1 & 0.9551950\\\\\n",
       "\\end{tabular}\n"
      ],
      "text/markdown": [
       "\n",
       "A data.frame: 6 x 7\n",
       "\n",
       "| <!--/--> | gene &lt;chr&gt; | t &lt;dbl&gt; | FC &lt;dbl&gt; | log_FC &lt;dbl&gt; | p_value &lt;dbl&gt; | bonferroni &lt;dbl&gt; | fdr &lt;dbl&gt; |\n",
       "|---|---|---|---|---|---|---|---|\n",
       "| 100001_at | 100001_at |  0.1148786 | 0.9199573 | -0.08342801 | 0.9168154 | 1 | 0.9808352 |\n",
       "| 100002_at | 100002_at | -1.1125831 | 2.1157742 |  0.74942082 | 0.3726832 | 1 | 0.8026614 |\n",
       "| 100003_at | 100003_at |  1.1573839 | 0.8092836 | -0.21160593 | 0.3500913 | 1 | 0.7907215 |\n",
       "| 100004_at | 100004_at |  1.5993997 | 0.7300839 | -0.31459576 | 0.1875973 | 1 | 0.6904555 |\n",
       "| 100005_at | 100005_at | -0.4741657 | 1.0684729 |  0.06623047 | 0.6614367 | 1 | 0.9051315 |\n",
       "| 100006_at | 100006_at |  0.2620043 | 0.9088099 | -0.09561935 | 0.8074091 | 1 | 0.9551950 |\n",
       "\n"
      ],
      "text/plain": [
       "          gene      t          FC        log_FC      p_value   bonferroni\n",
       "100001_at 100001_at  0.1148786 0.9199573 -0.08342801 0.9168154 1         \n",
       "100002_at 100002_at -1.1125831 2.1157742  0.74942082 0.3726832 1         \n",
       "100003_at 100003_at  1.1573839 0.8092836 -0.21160593 0.3500913 1         \n",
       "100004_at 100004_at  1.5993997 0.7300839 -0.31459576 0.1875973 1         \n",
       "100005_at 100005_at -0.4741657 1.0684729  0.06623047 0.6614367 1         \n",
       "100006_at 100006_at  0.2620043 0.9088099 -0.09561935 0.8074091 1         \n",
       "          fdr      \n",
       "100001_at 0.9808352\n",
       "100002_at 0.8026614\n",
       "100003_at 0.7907215\n",
       "100004_at 0.6904555\n",
       "100005_at 0.9051315\n",
       "100006_at 0.9551950"
      ]
     },
     "metadata": {},
     "output_type": "display_data"
    }
   ],
   "source": [
    "#Now we can perform differential expression test on two genotypes.\n",
    "de.geno = DEA_test(simple.mouse, group = \"genotype\", verbose = F)\n",
    "head(de.geno)"
   ]
  },
  {
   "cell_type": "code",
   "execution_count": 14,
   "metadata": {},
   "outputs": [
    {
     "name": "stdout",
     "output_type": "stream",
     "text": [
      "'data.frame':\t510 obs. of  3 variables:\n",
      " $ log_FC : num  -0.883 -1.29 -0.663 0.725 0.898 ...\n",
      " $ p_value: num  7.06e-07 1.87e-06 6.91e-06 7.45e-06 1.19e-05 ...\n",
      " $ fdr    : num  0.00882 0.01169 0.02327 0.02327 0.02975 ...\n"
     ]
    },
    {
     "data": {
      "text/html": [
       "<table>\n",
       "<caption>A data.frame: 6 x 3</caption>\n",
       "<thead>\n",
       "\t<tr><th></th><th scope=col>log_FC</th><th scope=col>p_value</th><th scope=col>fdr</th></tr>\n",
       "\t<tr><th></th><th scope=col>&lt;dbl&gt;</th><th scope=col>&lt;dbl&gt;</th><th scope=col>&lt;dbl&gt;</th></tr>\n",
       "</thead>\n",
       "<tbody>\n",
       "\t<tr><th scope=row>100618_f_at</th><td>-0.8825696</td><td>7.062020e-07</td><td>0.008819051</td></tr>\n",
       "\t<tr><th scope=row>96920_at</th><td>-1.2898932</td><td>1.872452e-06</td><td>0.011691592</td></tr>\n",
       "\t<tr><th scope=row>93140_at</th><td>-0.6631696</td><td>6.905019e-06</td><td>0.023272627</td></tr>\n",
       "\t<tr><th scope=row>97181_f_at</th><td> 0.7245365</td><td>7.454397e-06</td><td>0.023272627</td></tr>\n",
       "\t<tr><th scope=row>96183_at</th><td> 0.8982370</td><td>1.191285e-05</td><td>0.029753532</td></tr>\n",
       "\t<tr><th scope=row>102332_at</th><td>-0.6022340</td><td>1.571138e-05</td><td>0.032700624</td></tr>\n",
       "</tbody>\n",
       "</table>\n"
      ],
      "text/latex": [
       "A data.frame: 6 x 3\n",
       "\\begin{tabular}{r|lll}\n",
       "  & log\\_FC & p\\_value & fdr\\\\\n",
       "  & <dbl> & <dbl> & <dbl>\\\\\n",
       "\\hline\n",
       "\t100618\\_f\\_at & -0.8825696 & 7.062020e-07 & 0.008819051\\\\\n",
       "\t96920\\_at & -1.2898932 & 1.872452e-06 & 0.011691592\\\\\n",
       "\t93140\\_at & -0.6631696 & 6.905019e-06 & 0.023272627\\\\\n",
       "\t97181\\_f\\_at &  0.7245365 & 7.454397e-06 & 0.023272627\\\\\n",
       "\t96183\\_at &  0.8982370 & 1.191285e-05 & 0.029753532\\\\\n",
       "\t102332\\_at & -0.6022340 & 1.571138e-05 & 0.032700624\\\\\n",
       "\\end{tabular}\n"
      ],
      "text/markdown": [
       "\n",
       "A data.frame: 6 x 3\n",
       "\n",
       "| <!--/--> | log_FC &lt;dbl&gt; | p_value &lt;dbl&gt; | fdr &lt;dbl&gt; |\n",
       "|---|---|---|---|\n",
       "| 100618_f_at | -0.8825696 | 7.062020e-07 | 0.008819051 |\n",
       "| 96920_at | -1.2898932 | 1.872452e-06 | 0.011691592 |\n",
       "| 93140_at | -0.6631696 | 6.905019e-06 | 0.023272627 |\n",
       "| 97181_f_at |  0.7245365 | 7.454397e-06 | 0.023272627 |\n",
       "| 96183_at |  0.8982370 | 1.191285e-05 | 0.029753532 |\n",
       "| 102332_at | -0.6022340 | 1.571138e-05 | 0.032700624 |\n",
       "\n"
      ],
      "text/plain": [
       "            log_FC     p_value      fdr        \n",
       "100618_f_at -0.8825696 7.062020e-07 0.008819051\n",
       "96920_at    -1.2898932 1.872452e-06 0.011691592\n",
       "93140_at    -0.6631696 6.905019e-06 0.023272627\n",
       "97181_f_at   0.7245365 7.454397e-06 0.023272627\n",
       "96183_at     0.8982370 1.191285e-05 0.029753532\n",
       "102332_at   -0.6022340 1.571138e-05 0.032700624"
      ]
     },
     "metadata": {},
     "output_type": "display_data"
    }
   ],
   "source": [
    "#Now we are only interesting in genes with absolute log_FC larger than 0.5 and p_value smaller than 0.5.\n",
    "de.res = Get_DEG(de.geno, \"log_FC\", 0.5)\n",
    "de.res = Get_DEG(de.res, \"p_value\", 0.05)\n",
    "str(de.res)\n",
    "head(de.res)"
   ]
  },
  {
   "cell_type": "markdown",
   "metadata": {},
   "source": [
    "# \"Comparison of Differnetial Expression Analysis on Simulated Data with DESeq2\""
   ]
  },
  {
   "cell_type": "markdown",
   "metadata": {},
   "source": [
    "This tutorial will be analyzing a expression dataset (GSE5583). It contains an expression matrix of embryonic stem cells from 3 wild types and 3 HDAC knock out mice. Histone deacetylase 1 (HDAC1) is an enzyme asssocatied with gene activation and expression and it plays an important role at development and proliferation. Differential expression analysis will be performed here to seek for significant genes associated with HDAC knock out and hope to build up the underlying biological mechanism."
   ]
  },
  {
   "cell_type": "code",
   "execution_count": 17,
   "metadata": {},
   "outputs": [
    {
     "name": "stdout",
     "output_type": "stream",
     "text": [
      "\n",
      "The downloaded binary packages are in\n",
      "\t/var/folders/z4/zq1sx9z918l822zf41yhflvr0000gn/T//RtmpmNplLu/downloaded_packages\n"
     ]
    }
   ],
   "source": [
    "if (!requireNamespace(\"BiocManager\", quietly = TRUE))\n",
    "    install.packages(\"BiocManager\")"
   ]
  },
  {
   "cell_type": "code",
   "execution_count": 18,
   "metadata": {
    "scrolled": true
   },
   "outputs": [
    {
     "name": "stderr",
     "output_type": "stream",
     "text": [
      "Bioconductor version 3.12 (BiocManager 1.30.10), R 4.0.3 (2020-10-10)\n",
      "\n",
      "Installing package(s) 'BiocVersion', 'DESeq2'\n",
      "\n",
      "also installing the dependencies ‘bitops’, ‘formatR’, ‘blob’, ‘plogr’, ‘colorspace’, ‘RCurl’, ‘GenomeInfoDbData’, ‘zlibbioc’, ‘matrixStats’, ‘lambda.r’, ‘futile.options’, ‘DBI’, ‘RSQLite’, ‘XML’, ‘xtable’, ‘farver’, ‘labeling’, ‘munsell’, ‘viridisLite’, ‘GenomeInfoDb’, ‘XVector’, ‘MatrixGenerics’, ‘DelayedArray’, ‘futile.logger’, ‘snow’, ‘AnnotationDbi’, ‘annotate’, ‘RColorBrewer’, ‘gtable’, ‘isoband’, ‘scales’, ‘S4Vectors’, ‘IRanges’, ‘GenomicRanges’, ‘SummarizedExperiment’, ‘BiocGenerics’, ‘Biobase’, ‘BiocParallel’, ‘genefilter’, ‘locfit’, ‘geneplotter’, ‘ggplot2’, ‘RcppArmadillo’\n",
      "\n",
      "\n"
     ]
    },
    {
     "name": "stdout",
     "output_type": "stream",
     "text": [
      "\n",
      "The downloaded binary packages are in\n",
      "\t/var/folders/z4/zq1sx9z918l822zf41yhflvr0000gn/T//RtmpmNplLu/downloaded_packages\n"
     ]
    },
    {
     "name": "stderr",
     "output_type": "stream",
     "text": [
      "installing the source package ‘GenomeInfoDbData’\n",
      "\n",
      "\n",
      "Old packages: 'KernSmooth', 'codetools', 'nlme'\n",
      "\n"
     ]
    }
   ],
   "source": [
    "BiocManager::install(\"DESeq2\")"
   ]
  },
  {
   "cell_type": "code",
   "execution_count": 19,
   "metadata": {},
   "outputs": [
    {
     "name": "stderr",
     "output_type": "stream",
     "text": [
      "Loading required package: S4Vectors\n",
      "\n",
      "Loading required package: stats4\n",
      "\n",
      "Loading required package: BiocGenerics\n",
      "\n",
      "Loading required package: parallel\n",
      "\n",
      "\n",
      "Attaching package: ‘BiocGenerics’\n",
      "\n",
      "\n",
      "The following objects are masked from ‘package:parallel’:\n",
      "\n",
      "    clusterApply, clusterApplyLB, clusterCall, clusterEvalQ,\n",
      "    clusterExport, clusterMap, parApply, parCapply, parLapply,\n",
      "    parLapplyLB, parRapply, parSapply, parSapplyLB\n",
      "\n",
      "\n",
      "The following objects are masked from ‘package:stats’:\n",
      "\n",
      "    IQR, mad, sd, var, xtabs\n",
      "\n",
      "\n",
      "The following objects are masked from ‘package:base’:\n",
      "\n",
      "    Filter, Find, Map, Position, Reduce, anyDuplicated, append,\n",
      "    as.data.frame, basename, cbind, colnames, dirname, do.call,\n",
      "    duplicated, eval, evalq, get, grep, grepl, intersect, is.unsorted,\n",
      "    lapply, mapply, match, mget, order, paste, pmax, pmax.int, pmin,\n",
      "    pmin.int, rank, rbind, rownames, sapply, setdiff, sort, table,\n",
      "    tapply, union, unique, unsplit, which.max, which.min\n",
      "\n",
      "\n",
      "\n",
      "Attaching package: ‘S4Vectors’\n",
      "\n",
      "\n",
      "The following objects are masked from ‘package:data.table’:\n",
      "\n",
      "    first, second\n",
      "\n",
      "\n",
      "The following object is masked from ‘package:base’:\n",
      "\n",
      "    expand.grid\n",
      "\n",
      "\n",
      "Loading required package: IRanges\n",
      "\n",
      "\n",
      "Attaching package: ‘IRanges’\n",
      "\n",
      "\n",
      "The following object is masked from ‘package:data.table’:\n",
      "\n",
      "    shift\n",
      "\n",
      "\n",
      "Loading required package: GenomicRanges\n",
      "\n",
      "Loading required package: GenomeInfoDb\n",
      "\n",
      "Loading required package: SummarizedExperiment\n",
      "\n",
      "Loading required package: MatrixGenerics\n",
      "\n",
      "Loading required package: matrixStats\n",
      "\n",
      "\n",
      "Attaching package: ‘MatrixGenerics’\n",
      "\n",
      "\n",
      "The following objects are masked from ‘package:matrixStats’:\n",
      "\n",
      "    colAlls, colAnyNAs, colAnys, colAvgsPerRowSet, colCollapse,\n",
      "    colCounts, colCummaxs, colCummins, colCumprods, colCumsums,\n",
      "    colDiffs, colIQRDiffs, colIQRs, colLogSumExps, colMadDiffs,\n",
      "    colMads, colMaxs, colMeans2, colMedians, colMins, colOrderStats,\n",
      "    colProds, colQuantiles, colRanges, colRanks, colSdDiffs, colSds,\n",
      "    colSums2, colTabulates, colVarDiffs, colVars, colWeightedMads,\n",
      "    colWeightedMeans, colWeightedMedians, colWeightedSds,\n",
      "    colWeightedVars, rowAlls, rowAnyNAs, rowAnys, rowAvgsPerColSet,\n",
      "    rowCollapse, rowCounts, rowCummaxs, rowCummins, rowCumprods,\n",
      "    rowCumsums, rowDiffs, rowIQRDiffs, rowIQRs, rowLogSumExps,\n",
      "    rowMadDiffs, rowMads, rowMaxs, rowMeans2, rowMedians, rowMins,\n",
      "    rowOrderStats, rowProds, rowQuantiles, rowRanges, rowRanks,\n",
      "    rowSdDiffs, rowSds, rowSums2, rowTabulates, rowVarDiffs, rowVars,\n",
      "    rowWeightedMads, rowWeightedMeans, rowWeightedMedians,\n",
      "    rowWeightedSds, rowWeightedVars\n",
      "\n",
      "\n",
      "Loading required package: Biobase\n",
      "\n",
      "Welcome to Bioconductor\n",
      "\n",
      "    Vignettes contain introductory material; view with\n",
      "    'browseVignettes()'. To cite Bioconductor, see\n",
      "    'citation(\"Biobase\")', and for packages 'citation(\"pkgname\")'.\n",
      "\n",
      "\n",
      "\n",
      "Attaching package: ‘Biobase’\n",
      "\n",
      "\n",
      "The following object is masked from ‘package:MatrixGenerics’:\n",
      "\n",
      "    rowMedians\n",
      "\n",
      "\n",
      "The following objects are masked from ‘package:matrixStats’:\n",
      "\n",
      "    anyMissing, rowMedians\n",
      "\n",
      "\n"
     ]
    }
   ],
   "source": [
    "library(DESeq2)"
   ]
  },
  {
   "cell_type": "markdown",
   "metadata": {},
   "source": [
    "Here we simulate a dataset containing 10000 genes expression data in 10 samples from two condition (5 treatment vs 5 control). Among those 10000 genes, 100 genes are differentially expressed genes, simulated from two negative binomial distribution with distinct means. "
   ]
  },
  {
   "cell_type": "code",
   "execution_count": 20,
   "metadata": {},
   "outputs": [
    {
     "data": {
      "text/html": [
       "<table>\n",
       "<caption>A matrix: 10 x 10 of type dbl</caption>\n",
       "<thead>\n",
       "\t<tr><th></th><th scope=col>ctr1</th><th scope=col>ctr2</th><th scope=col>ctr3</th><th scope=col>ctr4</th><th scope=col>ctr5</th><th scope=col>trt1</th><th scope=col>trt2</th><th scope=col>trt3</th><th scope=col>trt4</th><th scope=col>trt5</th></tr>\n",
       "</thead>\n",
       "<tbody>\n",
       "\t<tr><th scope=row>DEG1</th><td>28</td><td>22</td><td>31</td><td>28</td><td>25</td><td> 82</td><td>99</td><td>70</td><td>68</td><td>58</td></tr>\n",
       "\t<tr><th scope=row>DEG2</th><td> 8</td><td>18</td><td>10</td><td>19</td><td>12</td><td> 56</td><td>66</td><td>51</td><td>49</td><td>34</td></tr>\n",
       "\t<tr><th scope=row>DEG3</th><td>33</td><td>20</td><td>42</td><td>16</td><td>25</td><td> 82</td><td>70</td><td>62</td><td>99</td><td>64</td></tr>\n",
       "\t<tr><th scope=row>DEG4</th><td>26</td><td>24</td><td>14</td><td>24</td><td> 8</td><td> 44</td><td>77</td><td>70</td><td>58</td><td>56</td></tr>\n",
       "\t<tr><th scope=row>DEG5</th><td>20</td><td>25</td><td>13</td><td>25</td><td>29</td><td> 57</td><td>76</td><td>66</td><td>87</td><td>41</td></tr>\n",
       "\t<tr><th scope=row>DEG6</th><td>25</td><td> 8</td><td>23</td><td>36</td><td>19</td><td> 48</td><td>67</td><td>69</td><td>55</td><td>74</td></tr>\n",
       "\t<tr><th scope=row>DEG7</th><td>13</td><td>23</td><td>24</td><td>16</td><td>23</td><td> 59</td><td>69</td><td>56</td><td>49</td><td>63</td></tr>\n",
       "\t<tr><th scope=row>DEG8</th><td>13</td><td>14</td><td>17</td><td>19</td><td> 7</td><td> 59</td><td>80</td><td>53</td><td>54</td><td>60</td></tr>\n",
       "\t<tr><th scope=row>DEG9</th><td>13</td><td>24</td><td>15</td><td>22</td><td>21</td><td>101</td><td>68</td><td>83</td><td>48</td><td>71</td></tr>\n",
       "\t<tr><th scope=row>DEG10</th><td>25</td><td>24</td><td>23</td><td>42</td><td>25</td><td> 49</td><td>75</td><td>54</td><td>50</td><td>65</td></tr>\n",
       "</tbody>\n",
       "</table>\n"
      ],
      "text/latex": [
       "A matrix: 10 x 10 of type dbl\n",
       "\\begin{tabular}{r|llllllllll}\n",
       "  & ctr1 & ctr2 & ctr3 & ctr4 & ctr5 & trt1 & trt2 & trt3 & trt4 & trt5\\\\\n",
       "\\hline\n",
       "\tDEG1 & 28 & 22 & 31 & 28 & 25 &  82 & 99 & 70 & 68 & 58\\\\\n",
       "\tDEG2 &  8 & 18 & 10 & 19 & 12 &  56 & 66 & 51 & 49 & 34\\\\\n",
       "\tDEG3 & 33 & 20 & 42 & 16 & 25 &  82 & 70 & 62 & 99 & 64\\\\\n",
       "\tDEG4 & 26 & 24 & 14 & 24 &  8 &  44 & 77 & 70 & 58 & 56\\\\\n",
       "\tDEG5 & 20 & 25 & 13 & 25 & 29 &  57 & 76 & 66 & 87 & 41\\\\\n",
       "\tDEG6 & 25 &  8 & 23 & 36 & 19 &  48 & 67 & 69 & 55 & 74\\\\\n",
       "\tDEG7 & 13 & 23 & 24 & 16 & 23 &  59 & 69 & 56 & 49 & 63\\\\\n",
       "\tDEG8 & 13 & 14 & 17 & 19 &  7 &  59 & 80 & 53 & 54 & 60\\\\\n",
       "\tDEG9 & 13 & 24 & 15 & 22 & 21 & 101 & 68 & 83 & 48 & 71\\\\\n",
       "\tDEG10 & 25 & 24 & 23 & 42 & 25 &  49 & 75 & 54 & 50 & 65\\\\\n",
       "\\end{tabular}\n"
      ],
      "text/markdown": [
       "\n",
       "A matrix: 10 x 10 of type dbl\n",
       "\n",
       "| <!--/--> | ctr1 | ctr2 | ctr3 | ctr4 | ctr5 | trt1 | trt2 | trt3 | trt4 | trt5 |\n",
       "|---|---|---|---|---|---|---|---|---|---|---|\n",
       "| DEG1 | 28 | 22 | 31 | 28 | 25 |  82 | 99 | 70 | 68 | 58 |\n",
       "| DEG2 |  8 | 18 | 10 | 19 | 12 |  56 | 66 | 51 | 49 | 34 |\n",
       "| DEG3 | 33 | 20 | 42 | 16 | 25 |  82 | 70 | 62 | 99 | 64 |\n",
       "| DEG4 | 26 | 24 | 14 | 24 |  8 |  44 | 77 | 70 | 58 | 56 |\n",
       "| DEG5 | 20 | 25 | 13 | 25 | 29 |  57 | 76 | 66 | 87 | 41 |\n",
       "| DEG6 | 25 |  8 | 23 | 36 | 19 |  48 | 67 | 69 | 55 | 74 |\n",
       "| DEG7 | 13 | 23 | 24 | 16 | 23 |  59 | 69 | 56 | 49 | 63 |\n",
       "| DEG8 | 13 | 14 | 17 | 19 |  7 |  59 | 80 | 53 | 54 | 60 |\n",
       "| DEG9 | 13 | 24 | 15 | 22 | 21 | 101 | 68 | 83 | 48 | 71 |\n",
       "| DEG10 | 25 | 24 | 23 | 42 | 25 |  49 | 75 | 54 | 50 | 65 |\n",
       "\n"
      ],
      "text/plain": [
       "      ctr1 ctr2 ctr3 ctr4 ctr5 trt1 trt2 trt3 trt4 trt5\n",
       "DEG1  28   22   31   28   25    82  99   70   68   58  \n",
       "DEG2   8   18   10   19   12    56  66   51   49   34  \n",
       "DEG3  33   20   42   16   25    82  70   62   99   64  \n",
       "DEG4  26   24   14   24    8    44  77   70   58   56  \n",
       "DEG5  20   25   13   25   29    57  76   66   87   41  \n",
       "DEG6  25    8   23   36   19    48  67   69   55   74  \n",
       "DEG7  13   23   24   16   23    59  69   56   49   63  \n",
       "DEG8  13   14   17   19    7    59  80   53   54   60  \n",
       "DEG9  13   24   15   22   21   101  68   83   48   71  \n",
       "DEG10 25   24   23   42   25    49  75   54   50   65  "
      ]
     },
     "metadata": {},
     "output_type": "display_data"
    },
    {
     "data": {
      "text/html": [
       "<table>\n",
       "<caption>A matrix: 10 x 10 of type dbl</caption>\n",
       "<thead>\n",
       "\t<tr><th></th><th scope=col>ctr1</th><th scope=col>ctr2</th><th scope=col>ctr3</th><th scope=col>ctr4</th><th scope=col>ctr5</th><th scope=col>trt1</th><th scope=col>trt2</th><th scope=col>trt3</th><th scope=col>trt4</th><th scope=col>trt5</th></tr>\n",
       "</thead>\n",
       "<tbody>\n",
       "\t<tr><th scope=row>non_DEG1</th><td>10</td><td>22</td><td>18</td><td>23</td><td>20</td><td> 7</td><td>20</td><td>17</td><td> 8</td><td>15</td></tr>\n",
       "\t<tr><th scope=row>non_DEG2</th><td>11</td><td>12</td><td>18</td><td>19</td><td>24</td><td>18</td><td>12</td><td>16</td><td>17</td><td>10</td></tr>\n",
       "\t<tr><th scope=row>non_DEG3</th><td>42</td><td>25</td><td>28</td><td>25</td><td>21</td><td>26</td><td>31</td><td>35</td><td>18</td><td>33</td></tr>\n",
       "\t<tr><th scope=row>non_DEG4</th><td>29</td><td> 9</td><td>26</td><td>25</td><td> 9</td><td>16</td><td>16</td><td>17</td><td>23</td><td>15</td></tr>\n",
       "\t<tr><th scope=row>non_DEG5</th><td>12</td><td>17</td><td>16</td><td> 8</td><td> 7</td><td> 6</td><td>16</td><td>15</td><td>18</td><td>12</td></tr>\n",
       "\t<tr><th scope=row>non_DEG6</th><td>26</td><td>33</td><td>34</td><td>54</td><td>36</td><td>35</td><td>40</td><td>29</td><td>45</td><td>63</td></tr>\n",
       "\t<tr><th scope=row>non_DEG7</th><td>15</td><td>29</td><td>24</td><td>23</td><td>20</td><td>23</td><td>24</td><td>18</td><td>14</td><td>17</td></tr>\n",
       "\t<tr><th scope=row>non_DEG8</th><td>26</td><td>32</td><td>27</td><td>27</td><td>17</td><td>22</td><td>28</td><td>26</td><td>16</td><td>28</td></tr>\n",
       "\t<tr><th scope=row>non_DEG9</th><td>16</td><td>13</td><td>13</td><td>18</td><td>19</td><td>21</td><td>12</td><td>12</td><td>13</td><td>17</td></tr>\n",
       "\t<tr><th scope=row>non_DEG10</th><td>34</td><td>23</td><td>42</td><td>22</td><td>23</td><td>16</td><td>23</td><td>30</td><td>28</td><td>22</td></tr>\n",
       "</tbody>\n",
       "</table>\n"
      ],
      "text/latex": [
       "A matrix: 10 x 10 of type dbl\n",
       "\\begin{tabular}{r|llllllllll}\n",
       "  & ctr1 & ctr2 & ctr3 & ctr4 & ctr5 & trt1 & trt2 & trt3 & trt4 & trt5\\\\\n",
       "\\hline\n",
       "\tnon\\_DEG1 & 10 & 22 & 18 & 23 & 20 &  7 & 20 & 17 &  8 & 15\\\\\n",
       "\tnon\\_DEG2 & 11 & 12 & 18 & 19 & 24 & 18 & 12 & 16 & 17 & 10\\\\\n",
       "\tnon\\_DEG3 & 42 & 25 & 28 & 25 & 21 & 26 & 31 & 35 & 18 & 33\\\\\n",
       "\tnon\\_DEG4 & 29 &  9 & 26 & 25 &  9 & 16 & 16 & 17 & 23 & 15\\\\\n",
       "\tnon\\_DEG5 & 12 & 17 & 16 &  8 &  7 &  6 & 16 & 15 & 18 & 12\\\\\n",
       "\tnon\\_DEG6 & 26 & 33 & 34 & 54 & 36 & 35 & 40 & 29 & 45 & 63\\\\\n",
       "\tnon\\_DEG7 & 15 & 29 & 24 & 23 & 20 & 23 & 24 & 18 & 14 & 17\\\\\n",
       "\tnon\\_DEG8 & 26 & 32 & 27 & 27 & 17 & 22 & 28 & 26 & 16 & 28\\\\\n",
       "\tnon\\_DEG9 & 16 & 13 & 13 & 18 & 19 & 21 & 12 & 12 & 13 & 17\\\\\n",
       "\tnon\\_DEG10 & 34 & 23 & 42 & 22 & 23 & 16 & 23 & 30 & 28 & 22\\\\\n",
       "\\end{tabular}\n"
      ],
      "text/markdown": [
       "\n",
       "A matrix: 10 x 10 of type dbl\n",
       "\n",
       "| <!--/--> | ctr1 | ctr2 | ctr3 | ctr4 | ctr5 | trt1 | trt2 | trt3 | trt4 | trt5 |\n",
       "|---|---|---|---|---|---|---|---|---|---|---|\n",
       "| non_DEG1 | 10 | 22 | 18 | 23 | 20 |  7 | 20 | 17 |  8 | 15 |\n",
       "| non_DEG2 | 11 | 12 | 18 | 19 | 24 | 18 | 12 | 16 | 17 | 10 |\n",
       "| non_DEG3 | 42 | 25 | 28 | 25 | 21 | 26 | 31 | 35 | 18 | 33 |\n",
       "| non_DEG4 | 29 |  9 | 26 | 25 |  9 | 16 | 16 | 17 | 23 | 15 |\n",
       "| non_DEG5 | 12 | 17 | 16 |  8 |  7 |  6 | 16 | 15 | 18 | 12 |\n",
       "| non_DEG6 | 26 | 33 | 34 | 54 | 36 | 35 | 40 | 29 | 45 | 63 |\n",
       "| non_DEG7 | 15 | 29 | 24 | 23 | 20 | 23 | 24 | 18 | 14 | 17 |\n",
       "| non_DEG8 | 26 | 32 | 27 | 27 | 17 | 22 | 28 | 26 | 16 | 28 |\n",
       "| non_DEG9 | 16 | 13 | 13 | 18 | 19 | 21 | 12 | 12 | 13 | 17 |\n",
       "| non_DEG10 | 34 | 23 | 42 | 22 | 23 | 16 | 23 | 30 | 28 | 22 |\n",
       "\n"
      ],
      "text/plain": [
       "          ctr1 ctr2 ctr3 ctr4 ctr5 trt1 trt2 trt3 trt4 trt5\n",
       "non_DEG1  10   22   18   23   20    7   20   17    8   15  \n",
       "non_DEG2  11   12   18   19   24   18   12   16   17   10  \n",
       "non_DEG3  42   25   28   25   21   26   31   35   18   33  \n",
       "non_DEG4  29    9   26   25    9   16   16   17   23   15  \n",
       "non_DEG5  12   17   16    8    7    6   16   15   18   12  \n",
       "non_DEG6  26   33   34   54   36   35   40   29   45   63  \n",
       "non_DEG7  15   29   24   23   20   23   24   18   14   17  \n",
       "non_DEG8  26   32   27   27   17   22   28   26   16   28  \n",
       "non_DEG9  16   13   13   18   19   21   12   12   13   17  \n",
       "non_DEG10 34   23   42   22   23   16   23   30   28   22  "
      ]
     },
     "metadata": {},
     "output_type": "display_data"
    }
   ],
   "source": [
    "set.seed(20191124)\n",
    "mu = rpois(10000, 20)\n",
    "size = 20\n",
    "ctr_dt = matrix(NA, 10000, 5)\n",
    "trt_dt = matrix(NA, 10000, 5)\n",
    "for (i in 1:100){\n",
    "  ctr_dt[i, ] = rnbinom(n = 5, size =  size, mu = mu[i])\n",
    "  trt_dt[i, ] = rnbinom(n = 5, size =  size, mu = mu[i] + 40)\n",
    "}\n",
    "for (i in 101:10000){\n",
    "  ctr_dt[i, ] = rnbinom(n = 5, size = size, mu = mu[i])\n",
    "  trt_dt[i, ] = rnbinom(n = 5, size = size, mu = mu[i])\n",
    "}\n",
    "dt = cbind(ctr_dt, trt_dt)\n",
    "colnames(dt) = c(sapply(1:5, function(x) paste0(\"ctr\",x)), sapply(1:5, function(x) paste0(\"trt\",x)))\n",
    "rownames(dt) = c(sapply(1:100, function(x) paste0(\"DEG\",x)), sapply(1:9900, function(x) paste0(\"non_DEG\",x)))\n",
    "dt[1:10,]\n",
    "dt[101:110,]\n"
   ]
  },
  {
   "cell_type": "code",
   "execution_count": 21,
   "metadata": {},
   "outputs": [],
   "source": [
    "# we also set up the sample information and gene information.\n",
    "# Create simpleDE\n",
    "mtx = dt\n",
    "s_data = data.frame(treatment = rep(c(0,1), each = 5))\n",
    "g_data = data.frame(is_DEG = c(rep(1, 100), rep(0, 9900)))"
   ]
  },
  {
   "cell_type": "code",
   "execution_count": 22,
   "metadata": {},
   "outputs": [
    {
     "name": "stdout",
     "output_type": "stream",
     "text": [
      "       log_FC      p_value       fdr\n",
      "DEG1 1.034405 0.0017929311 0.2827846\n",
      "DEG2 1.340485 0.0008548924 0.2092738\n",
      "DEG3 1.019590 0.0006365304 0.1917286\n",
      "DEG4 1.155964 0.0005513130 0.1901079\n",
      "DEG5 1.071461 0.0037171779 0.4024025\n",
      "DEG6 1.036673 0.0002875088 0.1505749\n",
      "\n",
      "DEG non \n",
      " 87  32 \n"
     ]
    },
    {
     "data": {
      "text/plain": [
       "   user  system elapsed \n",
       "  1.271   0.049   1.320 "
      ]
     },
     "metadata": {},
     "output_type": "display_data"
    }
   ],
   "source": [
    "#Now we perform simpleDE and get the final differnetially expressed genes by threhold of 0.5 for log fold-change and 0.01 for p value.\n",
    "simpleDE.test = function(){\n",
    "  simple.dt = Create_simpleDE(mtx, s_data, g_data)\n",
    "  simple.dt = Filter_Data(simple.dt, verbose = F)\n",
    "  simple.dt = Normalize_Data(simple.dt, option = \"size_factor\")\n",
    "  de.geno = DEA_test(simple.dt, group = \"treatment\", verbose = F)\n",
    "  de.res = Get_DEG(de.geno, \"log_FC\", 0.5, is.sort = F)\n",
    "  de.res = Get_DEG(de.res, \"p_value\", 0.01, is.sort = F)\n",
    "  print(head(de.res))\n",
    "  print(table(substr(rownames(de.res), 1, 3)))\n",
    "}\n",
    "system.time(simpleDE.test())"
   ]
  },
  {
   "cell_type": "code",
   "execution_count": 23,
   "metadata": {},
   "outputs": [
    {
     "name": "stderr",
     "output_type": "stream",
     "text": [
      "converting counts to integer mode\n",
      "\n",
      "  the design formula contains one or more numeric variables with integer values,\n",
      "  specifying a model with increasing fold change for higher values.\n",
      "  did you mean for this to be a factor? if so, first convert\n",
      "  this variable to a factor using the factor() function\n",
      "\n",
      "estimating size factors\n",
      "\n",
      "estimating dispersions\n",
      "\n",
      "gene-wise dispersion estimates\n",
      "\n",
      "mean-dispersion relationship\n",
      "\n",
      "final dispersion estimates\n",
      "\n",
      "fitting model and testing\n",
      "\n"
     ]
    },
    {
     "name": "stdout",
     "output_type": "stream",
     "text": [
      "log2 fold change (MLE): treatment \n",
      "Wald test p-value: treatment \n",
      "DataFrame with 6 rows and 6 columns\n",
      "      baseMean log2FoldChange     lfcSE      stat      pvalue        padj\n",
      "     <numeric>      <numeric> <numeric> <numeric>   <numeric>   <numeric>\n",
      "DEG1   49.8782        1.48197  0.233326   6.35151 2.13216e-10 3.52787e-08\n",
      "DEG2   31.5257        1.92298  0.291506   6.59672 4.20340e-11 8.87352e-09\n",
      "DEG3   50.0395        1.46068  0.255207   5.72350 1.04349e-08 9.82804e-07\n",
      "DEG4   39.1313        1.65624  0.277419   5.97019 2.36982e-09 2.68667e-07\n",
      "DEG5   42.8503        1.53544  0.265602   5.78099 7.42645e-09 7.57746e-07\n",
      "DEG6   41.3594        1.48336  0.275409   5.38604 7.20271e-08 6.21056e-06\n",
      "\n",
      "DEG non \n",
      "100  57 \n"
     ]
    },
    {
     "data": {
      "text/plain": [
       "   user  system elapsed \n",
       "  3.584   0.054   3.650 "
      ]
     },
     "metadata": {},
     "output_type": "display_data"
    }
   ],
   "source": [
    "# Now we also perform DESeq2 on the same data.\n",
    "DESeq2.test = function(){\n",
    "  dds = DESeqDataSetFromMatrix(countData = dt, colData = s_data, design = ~ treatment)\n",
    "  dds = DESeq(dds)\n",
    "  res = results(dds)\n",
    "  res = res[ res$log2FoldChange > log(exp(0.5)) | res$log2FoldChange < -log(exp(0.5)), ]\n",
    "  res = res[res$pvalue < 0.01, ]\n",
    "  print(head(res))\n",
    "  print(table(substr(rownames(res), 1, 3)))\n",
    "}\n",
    "# DESeq2.test()\n",
    "system.time(DESeq2.test())"
   ]
  },
  {
   "cell_type": "markdown",
   "metadata": {},
   "source": [
    "# Conclusion\n",
    "\n",
    "In terms of sensitivity, while DESeq2 has a full score, simpleDE has a decent 87% true positive rate.\n",
    "In terms of specificity, DESeq2 contains a level of (9900-54) / 9900 = 99.45% and simpleDE has a level of (9900 - 33) / 9900 = 99.67%.\n",
    "Overall, simpleDE is a less conservative method comparing with DESeq2.\n",
    "\n",
    "In terms of time effiency, simpleDE is much faster than DESeq2 due to simplicity of algorithm and less handling of data structure."
   ]
  },
  {
   "cell_type": "code",
   "execution_count": null,
   "metadata": {},
   "outputs": [],
   "source": []
  }
 ],
 "metadata": {
  "kernelspec": {
   "display_name": "R",
   "language": "R",
   "name": "ir"
  },
  "language_info": {
   "codemirror_mode": "r",
   "file_extension": ".r",
   "mimetype": "text/x-r-source",
   "name": "R",
   "pygments_lexer": "r",
   "version": "4.0.3"
  }
 },
 "nbformat": 4,
 "nbformat_minor": 4
}
